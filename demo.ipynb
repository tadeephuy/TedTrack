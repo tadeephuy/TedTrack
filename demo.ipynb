{
 "cells": [
  {
   "cell_type": "markdown",
   "metadata": {},
   "source": [
    "## 0.Prepare folder directories"
   ]
  },
  {
   "cell_type": "code",
   "execution_count": 1,
   "metadata": {},
   "outputs": [],
   "source": [
    "import os\n",
    "\n",
    "SAMPLE_FOLDER = './sample/data/'\n",
    "PAIRED_DESTINATION = ''\n",
    "\n",
    "os.makedirs(os.path.join(SAMPLE_FOLDER, 'benchmarks'), exist_ok=True)\n",
    "os.makedirs(os.path.join(SAMPLE_FOLDER, 'seqmaps'), exist_ok=True)\n",
    "os.makedirs(os.path.join(SAMPLE_FOLDER, 'trackers'), exist_ok=True)"
   ]
  },
  {
   "cell_type": "markdown",
   "metadata": {},
   "source": [
    "## 1. Import functions and specify configs"
   ]
  },
  {
   "cell_type": "code",
   "execution_count": 2,
   "metadata": {},
   "outputs": [],
   "source": [
    "from utils.tracking import track_evaluate, create_sequence, create_benchmark,\\\n",
    "                    create_tracker_results, summarize, read_txt_to_mot\n",
    "\n",
    "GT_PATH = './sample/gt.txt'\n",
    "SEQUENCE_NAME = 'cam3_10mins'\n",
    "FPS = 25\n",
    "SHAPE = (1280,960)\n",
    "LENGTH = 14952\n",
    "\n",
    "BENCHMARK = 'topview'\n",
    "\n",
    "# RESULT_PATH = './sample/bytetrack/bytetrack.txt'\n",
    "RESULT_PATH = f'../byte_tracking/data/outputs/frcnn_r50_hdet640-cam3_1hour_1_byte.txt'"
   ]
  },
  {
   "cell_type": "markdown",
   "metadata": {},
   "source": [
    "## 2. Run this cell in skip frame scenario"
   ]
  },
  {
   "cell_type": "code",
   "execution_count": 18,
   "metadata": {},
   "outputs": [
    {
     "name": "stdout",
     "output_type": "stream",
     "text": [
      "Use 'gt' to align and reindex frame id\n",
      "Truncate both file at frame id: 14952. Skip 1 frames and reindex to new length of: 7476\n",
      "Paired groundtruth is created at: ./sample/paired_gt_result/gt.txt\n",
      "Paired result is created at: ./sample/paired_gt_result/bytetrack_1skipframes.txt\n"
     ]
    }
   ],
   "source": [
    "from utils.tracking import pair_gt_result\n",
    "\n",
    "SKIP = 1\n",
    "RESULT_PATH = f'./sample/bytetrack/bytetrack_{SKIP}skipframes.txt'\n",
    "# RESULT_PATH = f'../byte_tracking/data/outputs/frcnn_r50_hdet640-cam3_1hour_1_byte_{SKIP}_skipframes.txt'\n",
    "PAIRED_DESTINATION = './sample/paired_gt_result/'\n",
    "\n",
    "paired = pair_gt_result(\n",
    "    gt_path=GT_PATH, \n",
    "    result_path=RESULT_PATH,\n",
    "    ref='gt',\n",
    "    length=LENGTH,\n",
    "    gt_frame_skip=SKIP,\n",
    "    destination=PAIRED_DESTINATION,\n",
    "    posfix='',\n",
    "    verbose=True\n",
    ") # -> paired: {'gt': gt, 'result': result, 'length': new_sequence_length}\n",
    "\n",
    "new_sequence_length = paired['length']\n",
    "\n",
    "LENGTH = new_sequence_length\n",
    "GT_PATH = os.path.join(PAIRED_DESTINATION, os.path.basename(GT_PATH))\n",
    "RESULT_PATH = os.path.join(PAIRED_DESTINATION, os.path.basename(RESULT_PATH))"
   ]
  },
  {
   "cell_type": "markdown",
   "metadata": {},
   "source": [
    "## 3. Create the benchmark and results directories."
   ]
  },
  {
   "cell_type": "code",
   "execution_count": 3,
   "metadata": {},
   "outputs": [
    {
     "name": "stdout",
     "output_type": "stream",
     "text": [
      "\n",
      "===== Create sequence folder =====\n",
      "{'name': 'cam3_10mins', 'imDir': '', 'frameRate': 25, 'seqLength': 14952, 'imWidth': 1280, 'imHeight': 960, 'imExt': ''}\n",
      "\n",
      "===== Create Benchmark folder =====\n",
      "Benchmark 'topview' created at: ./sample/data/benchmarks/topview\n",
      "Sequences: ['cam3_10mins']\n",
      "Sequences mappings created at: ./sample/data/seqmaps/topview.txt\n",
      "\n",
      "===== Create result folders =====\n",
      "Result file of 'ByteTrack' for sequence 'cam3_10mins' of benchmark 'topview' is created at: ./sample/data/trackers/topview/ByteTrack/cam3_10mins.txt\n"
     ]
    }
   ],
   "source": [
    "print('\\n===== Create sequence folder', '='*5)\n",
    "cam3_10mins = create_sequence(\n",
    "    gt_path=GT_PATH,\n",
    "    name=SEQUENCE_NAME,\n",
    "    fps=FPS, shape=SHAPE, length=LENGTH,\n",
    "    verbose=True\n",
    ")\n",
    "\n",
    "print('\\n===== Create Benchmark folder', '='*5)\n",
    "create_benchmark(\n",
    "    benchmark_name=BENCHMARK, \n",
    "    sequences=[cam3_10mins], \n",
    "    destination=os.path.join(SAMPLE_FOLDER, 'benchmarks'),\n",
    "    seqmap_path=os.path.join(SAMPLE_FOLDER, 'seqmaps'),\n",
    "    verbose=True\n",
    ")\n",
    "\n",
    "print('\\n===== Create result folders', '='*5)\n",
    "\n",
    "byte_track_result_path = RESULT_PATH \n",
    "create_tracker_results(\n",
    "    result_path=byte_track_result_path,\n",
    "    benchmark_name=BENCHMARK, sequence_name=SEQUENCE_NAME, tracker_name='ByteTrack', \n",
    "    destination=os.path.join(SAMPLE_FOLDER, 'trackers'), \n",
    "    verbose=True\n",
    ")"
   ]
  },
  {
   "cell_type": "markdown",
   "metadata": {},
   "source": [
    "## 4. Evaluation"
   ]
  },
  {
   "cell_type": "code",
   "execution_count": 4,
   "metadata": {},
   "outputs": [
    {
     "name": "stdout",
     "output_type": "stream",
     "text": [
      "\n",
      "Evaluating 1 tracker(s) on 1 sequence(s) for 1 class(es) on MotChallenge2DBox dataset using the following metrics: HOTA, CLEAR, Identity, Count\n",
      "\n",
      "\n",
      "Evaluating ByteTrack\n",
      "\n",
      "==================== SUMMARY ====================\n",
      "ByteTrack\n"
     ]
    },
    {
     "data": {
      "text/html": [
       "<div>\n",
       "<style scoped>\n",
       "    .dataframe tbody tr th:only-of-type {\n",
       "        vertical-align: middle;\n",
       "    }\n",
       "\n",
       "    .dataframe tbody tr th {\n",
       "        vertical-align: top;\n",
       "    }\n",
       "\n",
       "    .dataframe thead th {\n",
       "        text-align: right;\n",
       "    }\n",
       "</style>\n",
       "<table border=\"1\" class=\"dataframe\">\n",
       "  <thead>\n",
       "    <tr style=\"text-align: right;\">\n",
       "      <th></th>\n",
       "      <th>HOTA</th>\n",
       "      <th>MOTA</th>\n",
       "      <th>IDF1</th>\n",
       "      <th>IDsw</th>\n",
       "    </tr>\n",
       "  </thead>\n",
       "  <tbody>\n",
       "    <tr>\n",
       "      <th>cam3_10mins</th>\n",
       "      <td>0.550697</td>\n",
       "      <td>0.77525</td>\n",
       "      <td>0.736598</td>\n",
       "      <td>20</td>\n",
       "    </tr>\n",
       "    <tr>\n",
       "      <th>COMBINED_SEQ</th>\n",
       "      <td>0.550697</td>\n",
       "      <td>0.77525</td>\n",
       "      <td>0.736598</td>\n",
       "      <td>20</td>\n",
       "    </tr>\n",
       "  </tbody>\n",
       "</table>\n",
       "</div>"
      ],
      "text/plain": [
       "                  HOTA     MOTA      IDF1  IDsw\n",
       "cam3_10mins   0.550697  0.77525  0.736598    20\n",
       "COMBINED_SEQ  0.550697  0.77525  0.736598    20"
      ]
     },
     "metadata": {},
     "output_type": "display_data"
    },
    {
     "name": "stdout",
     "output_type": "stream",
     "text": [
      "==================================================\n"
     ]
    },
    {
     "data": {
      "text/plain": [
       "<Figure size 432x288 with 0 Axes>"
      ]
     },
     "metadata": {},
     "output_type": "display_data"
    }
   ],
   "source": [
    "gt_topview = os.path.join(SAMPLE_FOLDER, 'benchmarks', BENCHMARK)\n",
    "tracker_topview = os.path.join(SAMPLE_FOLDER, 'trackers', BENCHMARK)\n",
    "seqmap_file = os.path.join(SAMPLE_FOLDER, 'seqmaps', f'{BENCHMARK}.txt')\n",
    "\n",
    "\n",
    "results = track_evaluate(benchmark=BENCHMARK, \n",
    "                         gt_folder=gt_topview, \n",
    "                         trackers_folder=tracker_topview, \n",
    "                         seqmap_file=seqmap_file)\n",
    "\n",
    "summarize(results)"
   ]
  },
  {
   "cell_type": "code",
   "execution_count": 5,
   "metadata": {},
   "outputs": [
    {
     "data": {
      "text/plain": [
       "({'MotChallenge2DBox': {'ByteTrack': {'cam3_10mins': {'pedestrian': {'HOTA': {'HOTA': array([0.82619611, 0.82601942, 0.82569732, 0.82545003, 0.82522957,\n",
       "              0.82432768, 0.81910619, 0.80693243, 0.78143044, 0.73983733,\n",
       "              0.64408156, 0.54114661, 0.43471745, 0.32132194, 0.20362793,\n",
       "              0.12390979, 0.06872222, 0.02117649, 0.00430333]),\n",
       "       'DetA': array([9.24897857e-01, 9.24497708e-01, 9.23558012e-01, 9.22619233e-01,\n",
       "              9.22120256e-01, 9.20624877e-01, 9.12550356e-01, 8.95108545e-01,\n",
       "              8.54228632e-01, 7.89065822e-01, 6.42280605e-01, 4.81066121e-01,\n",
       "              3.46623514e-01, 2.28332980e-01, 1.23152889e-01, 6.01188636e-02,\n",
       "              2.34761507e-02, 4.61739635e-03, 4.21448486e-04]),\n",
       "       'AssA': array([0.73802746, 0.73803113, 0.738206  , 0.73851458, 0.73851956,\n",
       "              0.73810314, 0.7352306 , 0.72744243, 0.71483619, 0.69368012,\n",
       "              0.64588757, 0.60873057, 0.54520036, 0.4521808 , 0.3366899 ,\n",
       "              0.25538798, 0.201172  , 0.09712049, 0.04394046]),\n",
       "       'DetRe': array([9.25860400e-01, 9.25652260e-01, 9.25163130e-01, 9.24674000e-01,\n",
       "              9.24413825e-01, 9.23633298e-01, 9.19397642e-01, 9.10124988e-01,\n",
       "              8.87708270e-01, 8.49857944e-01, 7.53593023e-01, 6.25878092e-01,\n",
       "              4.95988094e-01, 3.58188763e-01, 2.11283289e-01, 1.09273694e-01,\n",
       "              4.41986075e-02, 8.85637274e-03, 8.11747442e-04]),\n",
       "       'DetPr': array([9.98877224e-01, 9.98652669e-01, 9.98124965e-01, 9.97597260e-01,\n",
       "              9.97316567e-01, 9.96474485e-01, 9.91904789e-01, 9.81900859e-01,\n",
       "              9.57716275e-01, 9.16880930e-01, 8.13024196e-01, 6.75237186e-01,\n",
       "              5.35103576e-01, 3.86436872e-01, 2.27945882e-01, 1.17891428e-01,\n",
       "              4.76842755e-02, 9.55481951e-03, 8.75764891e-04]),\n",
       "       'AssRe': array([0.74875863, 0.7487922 , 0.74901118, 0.74934122, 0.74939418,\n",
       "              0.74918449, 0.74748637, 0.74224066, 0.73451301, 0.72174717,\n",
       "              0.69271433, 0.67204086, 0.63565269, 0.56477288, 0.44718522,\n",
       "              0.34264099, 0.28345535, 0.15925919, 0.07403779]),\n",
       "       'AssPr': array([0.95773454, 0.95757292, 0.95742655, 0.95749841, 0.95743819,\n",
       "              0.95695678, 0.9546265 , 0.94944507, 0.93444458, 0.90642632,\n",
       "              0.83715133, 0.77810703, 0.70722801, 0.61575098, 0.48643508,\n",
       "              0.37866415, 0.30248975, 0.17096334, 0.08875534]),\n",
       "       'LocA': array([0.65858302, 0.65871234, 0.65899264, 0.65924872, 0.65937317,\n",
       "              0.65968828, 0.66121275, 0.66409999, 0.67003281, 0.67854448,\n",
       "              0.69776429, 0.72266642, 0.74818977, 0.7759057 , 0.81155277,\n",
       "              0.84615654, 0.88183832, 0.92020179, 0.95801678]),\n",
       "       'RHOTA': array([0.82662592, 0.82653504, 0.82641453, 0.8263687 , 0.82625522,\n",
       "              0.82567345, 0.82217351, 0.81367287, 0.79659651, 0.76780828,\n",
       "              0.69766494, 0.61724479, 0.52001239, 0.4024501 , 0.26671511,\n",
       "              0.16705445, 0.09429487, 0.02932806, 0.00597232]),\n",
       "       'HOTA_TP': array([8.8965e+04, 8.8945e+04, 8.8898e+04, 8.8851e+04, 8.8826e+04,\n",
       "              8.8751e+04, 8.8344e+04, 8.7453e+04, 8.5299e+04, 8.1662e+04,\n",
       "              7.2412e+04, 6.0140e+04, 4.7659e+04, 3.4418e+04, 2.0302e+04,\n",
       "              1.0500e+04, 4.2470e+03, 8.5100e+02, 7.8000e+01]),\n",
       "       'HOTA_FN': array([ 7124.,  7144.,  7191.,  7238.,  7263.,  7338.,  7745.,  8636.,\n",
       "              10790., 14427., 23677., 35949., 48430., 61671., 75787., 85589.,\n",
       "              91842., 95238., 96011.]),\n",
       "       'HOTA_FP': array([  100.,   120.,   167.,   214.,   239.,   314.,   721.,  1612.,\n",
       "               3766.,  7403., 16653., 28925., 41406., 54647., 68763., 78565.,\n",
       "              84818., 88214., 88987.]),\n",
       "       'HOTA(0)': 0.8261961149946427,\n",
       "       'LocA(0)': 0.6585830228624745,\n",
       "       'HOTALocA(0)': 0.5441187348904044},\n",
       "      'CLEAR': {'MOTA': 0.7752500286193008,\n",
       "       'MOTP': 0.6784662659718023,\n",
       "       'MODA': 0.7754581689891663,\n",
       "       'CLR_Re': 0.8511796355462123,\n",
       "       'CLR_Pr': 0.9183068545444338,\n",
       "       'MTR': 0.6578947368421053,\n",
       "       'PTR': 0.2631578947368421,\n",
       "       'MLR': 0.07894736842105263,\n",
       "       'sMOTA': 0.5015670620733668,\n",
       "       'CLR_F1': 0.8834699763440164,\n",
       "       'FP_per_frame': 0.4866238630283574,\n",
       "       'MOTAL': 0.7754446291459411,\n",
       "       'MOTP_sum': 55491.07742756774,\n",
       "       'CLR_TP': 81789,\n",
       "       'CLR_FN': 14300,\n",
       "       'CLR_FP': 7276,\n",
       "       'IDSW': 20,\n",
       "       'MT': 50,\n",
       "       'PT': 20,\n",
       "       'ML': 6,\n",
       "       'Frag': 313.0,\n",
       "       'CLR_Frames': 14952},\n",
       "      'Identity': {'IDF1': 0.7365976430430885,\n",
       "       'IDR': 0.7096754050931948,\n",
       "       'IDP': 0.7656430696682198,\n",
       "       'IDTP': 68192,\n",
       "       'IDFN': 27897,\n",
       "       'IDFP': 20873},\n",
       "      'Count': {'Dets': 89065,\n",
       "       'GT_Dets': 96089,\n",
       "       'IDs': 81,\n",
       "       'GT_IDs': 76,\n",
       "       'Frames': 14952}}},\n",
       "    'COMBINED_SEQ': {'pedestrian': {'HOTA': {'HOTA_TP': array([8.8965e+04, 8.8945e+04, 8.8898e+04, 8.8851e+04, 8.8826e+04,\n",
       "              8.8751e+04, 8.8344e+04, 8.7453e+04, 8.5299e+04, 8.1662e+04,\n",
       "              7.2412e+04, 6.0140e+04, 4.7659e+04, 3.4418e+04, 2.0302e+04,\n",
       "              1.0500e+04, 4.2470e+03, 8.5100e+02, 7.8000e+01]),\n",
       "       'HOTA_FN': array([ 7124.,  7144.,  7191.,  7238.,  7263.,  7338.,  7745.,  8636.,\n",
       "              10790., 14427., 23677., 35949., 48430., 61671., 75787., 85589.,\n",
       "              91842., 95238., 96011.]),\n",
       "       'HOTA_FP': array([  100.,   120.,   167.,   214.,   239.,   314.,   721.,  1612.,\n",
       "               3766.,  7403., 16653., 28925., 41406., 54647., 68763., 78565.,\n",
       "              84818., 88214., 88987.]),\n",
       "       'AssRe': array([0.74875863, 0.7487922 , 0.74901118, 0.74934122, 0.74939418,\n",
       "              0.74918449, 0.74748637, 0.74224066, 0.73451301, 0.72174717,\n",
       "              0.69271433, 0.67204086, 0.63565269, 0.56477288, 0.44718522,\n",
       "              0.34264099, 0.28345535, 0.15925919, 0.07403779]),\n",
       "       'AssPr': array([0.95773454, 0.95757292, 0.95742655, 0.95749841, 0.95743819,\n",
       "              0.95695678, 0.9546265 , 0.94944507, 0.93444458, 0.90642632,\n",
       "              0.83715133, 0.77810703, 0.70722801, 0.61575098, 0.48643508,\n",
       "              0.37866415, 0.30248975, 0.17096334, 0.08875534]),\n",
       "       'AssA': array([0.73802746, 0.73803113, 0.738206  , 0.73851458, 0.73851956,\n",
       "              0.73810314, 0.7352306 , 0.72744243, 0.71483619, 0.69368012,\n",
       "              0.64588757, 0.60873057, 0.54520036, 0.4521808 , 0.3366899 ,\n",
       "              0.25538798, 0.201172  , 0.09712049, 0.04394046]),\n",
       "       'LocA': array([0.65858302, 0.65871234, 0.65899264, 0.65924872, 0.65937317,\n",
       "              0.65968828, 0.66121275, 0.66409999, 0.67003281, 0.67854448,\n",
       "              0.69776429, 0.72266642, 0.74818977, 0.7759057 , 0.81155277,\n",
       "              0.84615654, 0.88183832, 0.92020179, 0.95801678]),\n",
       "       'DetRe': array([9.25860400e-01, 9.25652260e-01, 9.25163130e-01, 9.24674000e-01,\n",
       "              9.24413825e-01, 9.23633298e-01, 9.19397642e-01, 9.10124988e-01,\n",
       "              8.87708270e-01, 8.49857944e-01, 7.53593023e-01, 6.25878092e-01,\n",
       "              4.95988094e-01, 3.58188763e-01, 2.11283289e-01, 1.09273694e-01,\n",
       "              4.41986075e-02, 8.85637274e-03, 8.11747442e-04]),\n",
       "       'DetPr': array([9.98877224e-01, 9.98652669e-01, 9.98124965e-01, 9.97597260e-01,\n",
       "              9.97316567e-01, 9.96474485e-01, 9.91904789e-01, 9.81900859e-01,\n",
       "              9.57716275e-01, 9.16880930e-01, 8.13024196e-01, 6.75237186e-01,\n",
       "              5.35103576e-01, 3.86436872e-01, 2.27945882e-01, 1.17891428e-01,\n",
       "              4.76842755e-02, 9.55481951e-03, 8.75764891e-04]),\n",
       "       'DetA': array([9.24897857e-01, 9.24497708e-01, 9.23558012e-01, 9.22619233e-01,\n",
       "              9.22120256e-01, 9.20624877e-01, 9.12550356e-01, 8.95108545e-01,\n",
       "              8.54228632e-01, 7.89065822e-01, 6.42280605e-01, 4.81066121e-01,\n",
       "              3.46623514e-01, 2.28332980e-01, 1.23152889e-01, 6.01188636e-02,\n",
       "              2.34761507e-02, 4.61739635e-03, 4.21448486e-04]),\n",
       "       'HOTA': array([0.82619611, 0.82601942, 0.82569732, 0.82545003, 0.82522957,\n",
       "              0.82432768, 0.81910619, 0.80693243, 0.78143044, 0.73983733,\n",
       "              0.64408156, 0.54114661, 0.43471745, 0.32132194, 0.20362793,\n",
       "              0.12390979, 0.06872222, 0.02117649, 0.00430333]),\n",
       "       'RHOTA': array([0.82662592, 0.82653504, 0.82641453, 0.8263687 , 0.82625522,\n",
       "              0.82567345, 0.82217351, 0.81367287, 0.79659651, 0.76780828,\n",
       "              0.69766494, 0.61724479, 0.52001239, 0.4024501 , 0.26671511,\n",
       "              0.16705445, 0.09429487, 0.02932806, 0.00597232]),\n",
       "       'HOTA(0)': 0.8261961149946427,\n",
       "       'LocA(0)': 0.6585830228624745,\n",
       "       'HOTALocA(0)': 0.5441187348904044},\n",
       "      'CLEAR': {'CLR_TP': 81789,\n",
       "       'CLR_FN': 14300,\n",
       "       'CLR_FP': 7276,\n",
       "       'IDSW': 20,\n",
       "       'MT': 50,\n",
       "       'PT': 20,\n",
       "       'ML': 6,\n",
       "       'Frag': 313.0,\n",
       "       'CLR_Frames': 14952,\n",
       "       'MOTP_sum': 55491.07742756774,\n",
       "       'MTR': 0.6578947368421053,\n",
       "       'MLR': 0.07894736842105263,\n",
       "       'PTR': 0.2631578947368421,\n",
       "       'CLR_Re': 0.8511796355462123,\n",
       "       'CLR_Pr': 0.9183068545444338,\n",
       "       'MODA': 0.7754581689891663,\n",
       "       'MOTA': 0.7752500286193008,\n",
       "       'MOTP': 0.6784662659718023,\n",
       "       'sMOTA': 0.5015670620733668,\n",
       "       'CLR_F1': 0.8834699763440164,\n",
       "       'FP_per_frame': 0.4866238630283574,\n",
       "       'MOTAL': 0.7754446291459411},\n",
       "      'Identity': {'IDTP': 68192,\n",
       "       'IDFN': 27897,\n",
       "       'IDFP': 20873,\n",
       "       'IDR': 0.7096754050931948,\n",
       "       'IDP': 0.7656430696682198,\n",
       "       'IDF1': 0.7365976430430885},\n",
       "      'Count': {'Dets': 89065, 'GT_Dets': 96089, 'IDs': 81, 'GT_IDs': 76}}}}}},\n",
       " {'MotChallenge2DBox': {'ByteTrack': 'Success'}})"
      ]
     },
     "execution_count": 5,
     "metadata": {},
     "output_type": "execute_result"
    }
   ],
   "source": [
    "results"
   ]
  },
  {
   "cell_type": "markdown",
   "metadata": {},
   "source": [
    "## 5. Clean up if needed."
   ]
  },
  {
   "cell_type": "code",
   "execution_count": 6,
   "metadata": {},
   "outputs": [],
   "source": [
    "import shutil\n",
    "\n",
    "shutil.rmtree(SAMPLE_FOLDER, ignore_errors=True)\n",
    "shutil.rmtree(PAIRED_DESTINATION, ignore_errors=True)"
   ]
  },
  {
   "cell_type": "code",
   "execution_count": 7,
   "metadata": {},
   "outputs": [
    {
     "name": "stdout",
     "output_type": "stream",
     "text": [
      "[NbConvertApp] Converting notebook demo.ipynb to markdown\n",
      "[NbConvertApp] Writing 4086 bytes to demo.md\n"
     ]
    }
   ],
   "source": [
    "! jupyter nbconvert --to markdown demo.ipynb"
   ]
  },
  {
   "cell_type": "code",
   "execution_count": null,
   "metadata": {},
   "outputs": [],
   "source": []
  },
  {
   "cell_type": "code",
   "execution_count": null,
   "metadata": {},
   "outputs": [],
   "source": []
  }
 ],
 "metadata": {
  "interpreter": {
   "hash": "471002ccc8fe25fb0ebf4034879538807b09c31990d620499b1f661aaa6bec41"
  },
  "kernelspec": {
   "display_name": "Python 3 (ipykernel)",
   "language": "python",
   "name": "python3"
  },
  "language_info": {
   "codemirror_mode": {
    "name": "ipython",
    "version": 3
   },
   "file_extension": ".py",
   "mimetype": "text/x-python",
   "name": "python",
   "nbconvert_exporter": "python",
   "pygments_lexer": "ipython3",
   "version": "3.9.5"
  }
 },
 "nbformat": 4,
 "nbformat_minor": 4
}