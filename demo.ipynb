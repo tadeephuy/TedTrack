{
 "cells": [
  {
   "cell_type": "markdown",
   "metadata": {},
   "source": [
    "## 0.Prepare folder directories"
   ]
  },
  {
   "cell_type": "code",
   "execution_count": 1,
   "metadata": {},
   "outputs": [],
   "source": [
    "import os\n",
    "\n",
    "SAMPLE_FOLDER = './sample/data/'\n",
    "PAIRED_DESTINATION = ''\n",
    "\n",
    "os.makedirs(os.path.join(SAMPLE_FOLDER, 'benchmarks'))\n",
    "os.makedirs(os.path.join(SAMPLE_FOLDER, 'seqmaps'))\n",
    "os.makedirs(os.path.join(SAMPLE_FOLDER, 'trackers'))"
   ]
  },
  {
   "cell_type": "markdown",
   "metadata": {},
   "source": [
    "## 1. Import functions and specify configs"
   ]
  },
  {
   "cell_type": "code",
   "execution_count": 2,
   "metadata": {},
   "outputs": [],
   "source": [
    "from utils import track_evaluate, create_sequence, create_benchmark,\\\n",
    "                    create_tracker_results, summarize,\\\n",
    "                    pair_gt_result\n",
    "\n",
    "GT_PATH = './sample/gt.txt'\n",
    "SEQUENCE_NAME = 'cam3_10mins'\n",
    "FPS = 25\n",
    "SHAPE = (1280,960)\n",
    "LENGTH = 14952\n",
    "\n",
    "BENCHMARK = 'topview'\n",
    "\n",
    "RESULT_PATH = './sample/bytetrack/bytetrack.txt'"
   ]
  },
  {
   "cell_type": "markdown",
   "metadata": {},
   "source": [
    "## 2. Run this cell in skip frame scenario"
   ]
  },
  {
   "cell_type": "code",
   "execution_count": 3,
   "metadata": {},
   "outputs": [
    {
     "name": "stdout",
     "output_type": "stream",
     "text": [
      "Use 'result' to align and reindex frame id\n",
      "Truncate both file at frame id: 14952. Reindex to new length of: 4984\n",
      "Paired groundtruth is created at: ./sample/paired_gt_result/gt.txt\n",
      "Paired result is created at: ./sample/paired_gt_result/bytetrack_2skipframes.txt\n"
     ]
    }
   ],
   "source": [
    "RESULT_PATH = './sample/bytetrack/bytetrack_2skipframes.txt'\n",
    "PAIRED_DESTINATION = './sample/paired_gt_result/'\n",
    "\n",
    "paired = pair_gt_result(\n",
    "    gt_path=GT_PATH, \n",
    "    result_path=RESULT_PATH,\n",
    "    ref='result',\n",
    "    length=LENGTH,\n",
    "    destination=PAIRED_DESTINATION,\n",
    "    posfix='',\n",
    "    verbose=True\n",
    ") # -> paired: {'gt': gt, 'result': result, 'length': new_sequence_length}\n",
    "\n",
    "new_sequence_length = paired['length']\n",
    "\n",
    "LENGTH = new_sequence_length\n",
    "GT_PATH = os.path.join(PAIRED_DESTINATION, os.path.basename(GT_PATH))\n",
    "RESULT_PATH = os.path.join(PAIRED_DESTINATION, os.path.basename(RESULT_PATH))"
   ]
  },
  {
   "cell_type": "markdown",
   "metadata": {},
   "source": [
    "## 3. Create the benchmark and results directories."
   ]
  },
  {
   "cell_type": "code",
   "execution_count": 4,
   "metadata": {},
   "outputs": [
    {
     "name": "stdout",
     "output_type": "stream",
     "text": [
      "\n",
      "===== Create sequence folder =====\n",
      "{'name': 'cam3_10mins', 'imDir': '', 'frameRate': 25, 'seqLength': 4984, 'imWidth': 1280, 'imHeight': 960, 'imExt': ''}\n",
      "{'name': 'cam3_10mins_b', 'imDir': '', 'frameRate': 25, 'seqLength': 4984, 'imWidth': 1280, 'imHeight': 960, 'imExt': ''}\n",
      "\n",
      "===== Create Benchmark folder =====\n",
      "Benchmark 'topview' created at: ./sample/data/benchmarks/topview\n",
      "Sequences: ['cam3_10mins', 'cam3_10mins_b']\n",
      "Sequences mappings created at: ./sample/data/seqmaps/topview.txt\n",
      "\n",
      "===== Create result folders =====\n",
      "Result file of 'ByteTrack' for sequence 'cam3_10mins' of benchmark 'topview' is created at: ./sample/data/trackers/topview/ByteTrack/cam3_10mins.txt\n",
      "Result file of 'ByteTrack' for sequence 'cam3_10mins_b' of benchmark 'topview' is created at: ./sample/data/trackers/topview/ByteTrack/cam3_10mins_b.txt\n",
      "Result file of 'SORT' for sequence 'cam3_10mins' of benchmark 'topview' is created at: ./sample/data/trackers/topview/SORT/cam3_10mins.txt\n",
      "Result file of 'SORT' for sequence 'cam3_10mins_b' of benchmark 'topview' is created at: ./sample/data/trackers/topview/SORT/cam3_10mins_b.txt\n"
     ]
    }
   ],
   "source": [
    "print('\\n===== Create sequence folder', '='*5)\n",
    "cam3_10mins = create_sequence(\n",
    "    gt_path=GT_PATH,\n",
    "    name=SEQUENCE_NAME,\n",
    "    fps=FPS, shape=SHAPE, length=LENGTH,\n",
    "    verbose=True\n",
    ")\n",
    "\n",
    "# only to demonstrate we can evaluate on multiple sequences\n",
    "cam3_10mins_b = create_sequence(\n",
    "    gt_path=GT_PATH,\n",
    "    name=SEQUENCE_NAME + '_b',\n",
    "    fps=FPS, shape=SHAPE, length=LENGTH,\n",
    "    verbose=True\n",
    ")\n",
    "\n",
    "print('\\n===== Create Benchmark folder', '='*5)\n",
    "create_benchmark(\n",
    "    benchmark_name=BENCHMARK, \n",
    "    sequences=[cam3_10mins, cam3_10mins_b], \n",
    "    destination=os.path.join(SAMPLE_FOLDER, 'benchmarks'),\n",
    "    seqmap_path=os.path.join(SAMPLE_FOLDER, 'seqmaps'),\n",
    "    verbose=True\n",
    ")\n",
    "\n",
    "print('\\n===== Create result folders', '='*5)\n",
    "\n",
    "byte_track_result_path = RESULT_PATH \n",
    "create_tracker_results(\n",
    "    result_path=byte_track_result_path,\n",
    "    benchmark_name=BENCHMARK, sequence_name=SEQUENCE_NAME, tracker_name='ByteTrack', \n",
    "    destination=os.path.join(SAMPLE_FOLDER, 'trackers'), \n",
    "    verbose=True\n",
    ")\n",
    "\n",
    "create_tracker_results( # only to demonstrate we can evaluate on multiple sequences\n",
    "    result_path=byte_track_result_path,\n",
    "    benchmark_name=BENCHMARK, sequence_name=SEQUENCE_NAME + '_b', tracker_name='ByteTrack', \n",
    "    destination=os.path.join(SAMPLE_FOLDER, 'trackers'), \n",
    "    verbose=True\n",
    ")\n",
    "\n",
    "# only to demonstrate we can evaluate multiple trackers\n",
    "sort_result_path = RESULT_PATH \n",
    "create_tracker_results(\n",
    "    result_path=sort_result_path,\n",
    "    benchmark_name=BENCHMARK, sequence_name=SEQUENCE_NAME, tracker_name='SORT', \n",
    "    destination=os.path.join(SAMPLE_FOLDER, 'trackers'), \n",
    "    verbose=True\n",
    ")\n",
    "\n",
    "create_tracker_results( # only to demonstrate we can evaluate on multiple sequences\n",
    "    result_path=sort_result_path,\n",
    "    benchmark_name=BENCHMARK, sequence_name=SEQUENCE_NAME + '_b', tracker_name='SORT', \n",
    "    destination=os.path.join(SAMPLE_FOLDER, 'trackers'), \n",
    "    verbose=True\n",
    ") "
   ]
  },
  {
   "cell_type": "markdown",
   "metadata": {},
   "source": [
    "## 4. Evaluation"
   ]
  },
  {
   "cell_type": "code",
   "execution_count": 5,
   "metadata": {},
   "outputs": [
    {
     "name": "stdout",
     "output_type": "stream",
     "text": [
      "\n",
      "Evaluating 2 tracker(s) on 2 sequence(s) for 1 class(es) on MotChallenge2DBox dataset using the following metrics: HOTA, CLEAR, Identity, Count\n",
      "\n",
      "\n",
      "Evaluating SORT\n",
      "\n",
      "\n",
      "Evaluating ByteTrack\n",
      "\n",
      "==================== SUMMARY ====================\n",
      "SORT\n"
     ]
    },
    {
     "data": {
      "text/html": [
       "<div>\n",
       "<style scoped>\n",
       "    .dataframe tbody tr th:only-of-type {\n",
       "        vertical-align: middle;\n",
       "    }\n",
       "\n",
       "    .dataframe tbody tr th {\n",
       "        vertical-align: top;\n",
       "    }\n",
       "\n",
       "    .dataframe thead th {\n",
       "        text-align: right;\n",
       "    }\n",
       "</style>\n",
       "<table border=\"1\" class=\"dataframe\">\n",
       "  <thead>\n",
       "    <tr style=\"text-align: right;\">\n",
       "      <th></th>\n",
       "      <th>HOTA</th>\n",
       "      <th>MOTA</th>\n",
       "      <th>IDF1</th>\n",
       "      <th>IDsw</th>\n",
       "    </tr>\n",
       "  </thead>\n",
       "  <tbody>\n",
       "    <tr>\n",
       "      <th>cam3_10mins</th>\n",
       "      <td>0.465835</td>\n",
       "      <td>0.475336</td>\n",
       "      <td>0.648277</td>\n",
       "      <td>27</td>\n",
       "    </tr>\n",
       "    <tr>\n",
       "      <th>cam3_10mins_b</th>\n",
       "      <td>0.465835</td>\n",
       "      <td>0.475336</td>\n",
       "      <td>0.648277</td>\n",
       "      <td>27</td>\n",
       "    </tr>\n",
       "    <tr>\n",
       "      <th>COMBINED_SEQ</th>\n",
       "      <td>0.465835</td>\n",
       "      <td>0.475336</td>\n",
       "      <td>0.648277</td>\n",
       "      <td>54</td>\n",
       "    </tr>\n",
       "  </tbody>\n",
       "</table>\n",
       "</div>"
      ],
      "text/plain": [
       "                   HOTA      MOTA      IDF1  IDsw\n",
       "cam3_10mins    0.465835  0.475336  0.648277    27\n",
       "cam3_10mins_b  0.465835  0.475336  0.648277    27\n",
       "COMBINED_SEQ   0.465835  0.475336  0.648277    54"
      ]
     },
     "metadata": {},
     "output_type": "display_data"
    },
    {
     "name": "stdout",
     "output_type": "stream",
     "text": [
      "==================================================\n",
      "ByteTrack\n"
     ]
    },
    {
     "data": {
      "text/html": [
       "<div>\n",
       "<style scoped>\n",
       "    .dataframe tbody tr th:only-of-type {\n",
       "        vertical-align: middle;\n",
       "    }\n",
       "\n",
       "    .dataframe tbody tr th {\n",
       "        vertical-align: top;\n",
       "    }\n",
       "\n",
       "    .dataframe thead th {\n",
       "        text-align: right;\n",
       "    }\n",
       "</style>\n",
       "<table border=\"1\" class=\"dataframe\">\n",
       "  <thead>\n",
       "    <tr style=\"text-align: right;\">\n",
       "      <th></th>\n",
       "      <th>HOTA</th>\n",
       "      <th>MOTA</th>\n",
       "      <th>IDF1</th>\n",
       "      <th>IDsw</th>\n",
       "    </tr>\n",
       "  </thead>\n",
       "  <tbody>\n",
       "    <tr>\n",
       "      <th>cam3_10mins</th>\n",
       "      <td>0.465835</td>\n",
       "      <td>0.475336</td>\n",
       "      <td>0.648277</td>\n",
       "      <td>27</td>\n",
       "    </tr>\n",
       "    <tr>\n",
       "      <th>cam3_10mins_b</th>\n",
       "      <td>0.465835</td>\n",
       "      <td>0.475336</td>\n",
       "      <td>0.648277</td>\n",
       "      <td>27</td>\n",
       "    </tr>\n",
       "    <tr>\n",
       "      <th>COMBINED_SEQ</th>\n",
       "      <td>0.465835</td>\n",
       "      <td>0.475336</td>\n",
       "      <td>0.648277</td>\n",
       "      <td>54</td>\n",
       "    </tr>\n",
       "  </tbody>\n",
       "</table>\n",
       "</div>"
      ],
      "text/plain": [
       "                   HOTA      MOTA      IDF1  IDsw\n",
       "cam3_10mins    0.465835  0.475336  0.648277    27\n",
       "cam3_10mins_b  0.465835  0.475336  0.648277    27\n",
       "COMBINED_SEQ   0.465835  0.475336  0.648277    54"
      ]
     },
     "metadata": {},
     "output_type": "display_data"
    },
    {
     "name": "stdout",
     "output_type": "stream",
     "text": [
      "==================================================\n"
     ]
    },
    {
     "data": {
      "text/plain": [
       "<Figure size 432x288 with 0 Axes>"
      ]
     },
     "metadata": {},
     "output_type": "display_data"
    }
   ],
   "source": [
    "gt_topview = os.path.join(SAMPLE_FOLDER, 'benchmarks', BENCHMARK)\n",
    "tracker_topview = os.path.join(SAMPLE_FOLDER, 'trackers', BENCHMARK)\n",
    "seqmap_file = os.path.join(SAMPLE_FOLDER, 'seqmaps', f'{BENCHMARK}.txt')\n",
    "\n",
    "\n",
    "results = track_evaluate(benchmark=BENCHMARK, \n",
    "                         gt_folder=gt_topview, \n",
    "                         trackers_folder=tracker_topview, \n",
    "                         seqmap_file=seqmap_file)\n",
    "\n",
    "summarize(results)"
   ]
  },
  {
   "cell_type": "markdown",
   "metadata": {},
   "source": [
    "## 5. Clean up if needed."
   ]
  },
  {
   "cell_type": "code",
   "execution_count": 6,
   "metadata": {},
   "outputs": [],
   "source": [
    "import shutil\n",
    "\n",
    "shutil.rmtree(SAMPLE_FOLDER, ignore_errors=True)\n",
    "shutil.rmtree(PAIRED_DESTINATION, ignore_errors=True)"
   ]
  },
  {
   "cell_type": "code",
   "execution_count": null,
   "metadata": {},
   "outputs": [],
   "source": []
  }
 ],
 "metadata": {
  "interpreter": {
   "hash": "471002ccc8fe25fb0ebf4034879538807b09c31990d620499b1f661aaa6bec41"
  },
  "kernelspec": {
   "display_name": "Python 3",
   "language": "python",
   "name": "python3"
  },
  "language_info": {
   "codemirror_mode": {
    "name": "ipython",
    "version": 3
   },
   "file_extension": ".py",
   "mimetype": "text/x-python",
   "name": "python",
   "nbconvert_exporter": "python",
   "pygments_lexer": "ipython3",
   "version": "3.8.5"
  }
 },
 "nbformat": 4,
 "nbformat_minor": 4
}
