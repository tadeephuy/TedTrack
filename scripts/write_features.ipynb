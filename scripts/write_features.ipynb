{
 "cells": [
  {
   "cell_type": "markdown",
   "id": "db4cac65-9164-45c2-a809-879a361488c5",
   "metadata": {},
   "source": [
    "## Imports and configs"
   ]
  },
  {
   "cell_type": "code",
   "execution_count": 1,
   "id": "e6535668-0a56-46f9-88ca-693fe160eee8",
   "metadata": {},
   "outputs": [],
   "source": [
    "from time import sleep\n",
    "import sys\n",
    "sys.path.append('..')\n",
    "\n",
    "from utils import read_txt_to_mot, write_detection_features, FeatureNormalize\n",
    "from utils.models import check_encoder_output_if_normalized"
   ]
  },
  {
   "cell_type": "code",
   "execution_count": 7,
   "id": "a7b4fc39-5e6d-4f32-8e4a-aea4000e9252",
   "metadata": {},
   "outputs": [],
   "source": [
    "DETECTIONS_PATH = '../sample/detections.txt'\n",
    "IMG_SIZE = 64\n",
    "IMG_PATH = '/mnt/c/workspace/datasets/topview/cam3_1hour_1/img1'\n",
    "EXT = 'PNG'\n",
    "BOX_FORMAT = 'xyxy'\n",
    "\n",
    "BATCH_SIZE = 256"
   ]
  },
  {
   "cell_type": "markdown",
   "id": "b64fedd1-093c-4566-afe7-e3e54771e6b6",
   "metadata": {},
   "source": [
    "## Create data"
   ]
  },
  {
   "cell_type": "code",
   "execution_count": 8,
   "id": "35c0cd14-9990-4cae-86e3-96fe191dc02b",
   "metadata": {},
   "outputs": [
    {
     "data": {
      "text/html": [
       "<div>\n",
       "<style scoped>\n",
       "    .dataframe tbody tr th:only-of-type {\n",
       "        vertical-align: middle;\n",
       "    }\n",
       "\n",
       "    .dataframe tbody tr th {\n",
       "        vertical-align: top;\n",
       "    }\n",
       "\n",
       "    .dataframe thead th {\n",
       "        text-align: right;\n",
       "    }\n",
       "</style>\n",
       "<table border=\"1\" class=\"dataframe\">\n",
       "  <thead>\n",
       "    <tr style=\"text-align: right;\">\n",
       "      <th></th>\n",
       "      <th>0</th>\n",
       "      <th>1</th>\n",
       "      <th>2</th>\n",
       "      <th>3</th>\n",
       "      <th>4</th>\n",
       "      <th>5</th>\n",
       "      <th>6</th>\n",
       "      <th>7</th>\n",
       "      <th>8</th>\n",
       "      <th>9</th>\n",
       "    </tr>\n",
       "  </thead>\n",
       "  <tbody>\n",
       "    <tr>\n",
       "      <th>0</th>\n",
       "      <td>1</td>\n",
       "      <td>-1</td>\n",
       "      <td>817.466919</td>\n",
       "      <td>254.280380</td>\n",
       "      <td>949.700806</td>\n",
       "      <td>383.700623</td>\n",
       "      <td>0.998946</td>\n",
       "      <td>-1</td>\n",
       "      <td>-1</td>\n",
       "      <td>-1</td>\n",
       "    </tr>\n",
       "    <tr>\n",
       "      <th>1</th>\n",
       "      <td>1</td>\n",
       "      <td>-1</td>\n",
       "      <td>650.468689</td>\n",
       "      <td>585.898560</td>\n",
       "      <td>758.974670</td>\n",
       "      <td>721.172852</td>\n",
       "      <td>0.997912</td>\n",
       "      <td>-1</td>\n",
       "      <td>-1</td>\n",
       "      <td>-1</td>\n",
       "    </tr>\n",
       "    <tr>\n",
       "      <th>2</th>\n",
       "      <td>1</td>\n",
       "      <td>-1</td>\n",
       "      <td>682.504211</td>\n",
       "      <td>435.654877</td>\n",
       "      <td>793.261292</td>\n",
       "      <td>573.850830</td>\n",
       "      <td>0.997562</td>\n",
       "      <td>-1</td>\n",
       "      <td>-1</td>\n",
       "      <td>-1</td>\n",
       "    </tr>\n",
       "    <tr>\n",
       "      <th>3</th>\n",
       "      <td>1</td>\n",
       "      <td>-1</td>\n",
       "      <td>959.726624</td>\n",
       "      <td>265.447327</td>\n",
       "      <td>1035.810547</td>\n",
       "      <td>366.196716</td>\n",
       "      <td>0.996594</td>\n",
       "      <td>-1</td>\n",
       "      <td>-1</td>\n",
       "      <td>-1</td>\n",
       "    </tr>\n",
       "    <tr>\n",
       "      <th>4</th>\n",
       "      <td>1</td>\n",
       "      <td>-1</td>\n",
       "      <td>526.514038</td>\n",
       "      <td>509.146484</td>\n",
       "      <td>644.655396</td>\n",
       "      <td>655.279907</td>\n",
       "      <td>0.995303</td>\n",
       "      <td>-1</td>\n",
       "      <td>-1</td>\n",
       "      <td>-1</td>\n",
       "    </tr>\n",
       "    <tr>\n",
       "      <th>...</th>\n",
       "      <td>...</td>\n",
       "      <td>...</td>\n",
       "      <td>...</td>\n",
       "      <td>...</td>\n",
       "      <td>...</td>\n",
       "      <td>...</td>\n",
       "      <td>...</td>\n",
       "      <td>...</td>\n",
       "      <td>...</td>\n",
       "      <td>...</td>\n",
       "    </tr>\n",
       "    <tr>\n",
       "      <th>156</th>\n",
       "      <td>10</td>\n",
       "      <td>-1</td>\n",
       "      <td>1265.525513</td>\n",
       "      <td>918.235107</td>\n",
       "      <td>1279.896606</td>\n",
       "      <td>959.410278</td>\n",
       "      <td>0.176202</td>\n",
       "      <td>-1</td>\n",
       "      <td>-1</td>\n",
       "      <td>-1</td>\n",
       "    </tr>\n",
       "    <tr>\n",
       "      <th>157</th>\n",
       "      <td>10</td>\n",
       "      <td>-1</td>\n",
       "      <td>0.000000</td>\n",
       "      <td>210.696503</td>\n",
       "      <td>87.162033</td>\n",
       "      <td>337.874908</td>\n",
       "      <td>0.155744</td>\n",
       "      <td>-1</td>\n",
       "      <td>-1</td>\n",
       "      <td>-1</td>\n",
       "    </tr>\n",
       "    <tr>\n",
       "      <th>158</th>\n",
       "      <td>10</td>\n",
       "      <td>-1</td>\n",
       "      <td>1267.864990</td>\n",
       "      <td>884.124695</td>\n",
       "      <td>1279.949219</td>\n",
       "      <td>958.964783</td>\n",
       "      <td>0.069062</td>\n",
       "      <td>-1</td>\n",
       "      <td>-1</td>\n",
       "      <td>-1</td>\n",
       "    </tr>\n",
       "    <tr>\n",
       "      <th>159</th>\n",
       "      <td>10</td>\n",
       "      <td>-1</td>\n",
       "      <td>1190.128906</td>\n",
       "      <td>947.570618</td>\n",
       "      <td>1274.269531</td>\n",
       "      <td>960.000000</td>\n",
       "      <td>0.053171</td>\n",
       "      <td>-1</td>\n",
       "      <td>-1</td>\n",
       "      <td>-1</td>\n",
       "    </tr>\n",
       "    <tr>\n",
       "      <th>160</th>\n",
       "      <td>10</td>\n",
       "      <td>-1</td>\n",
       "      <td>1234.858154</td>\n",
       "      <td>918.289246</td>\n",
       "      <td>1279.912354</td>\n",
       "      <td>959.629456</td>\n",
       "      <td>0.050755</td>\n",
       "      <td>-1</td>\n",
       "      <td>-1</td>\n",
       "      <td>-1</td>\n",
       "    </tr>\n",
       "  </tbody>\n",
       "</table>\n",
       "<p>161 rows × 10 columns</p>\n",
       "</div>"
      ],
      "text/plain": [
       "      0  1            2           3            4           5         6  7  8  \\\n",
       "0     1 -1   817.466919  254.280380   949.700806  383.700623  0.998946 -1 -1   \n",
       "1     1 -1   650.468689  585.898560   758.974670  721.172852  0.997912 -1 -1   \n",
       "2     1 -1   682.504211  435.654877   793.261292  573.850830  0.997562 -1 -1   \n",
       "3     1 -1   959.726624  265.447327  1035.810547  366.196716  0.996594 -1 -1   \n",
       "4     1 -1   526.514038  509.146484   644.655396  655.279907  0.995303 -1 -1   \n",
       "..   .. ..          ...         ...          ...         ...       ... .. ..   \n",
       "156  10 -1  1265.525513  918.235107  1279.896606  959.410278  0.176202 -1 -1   \n",
       "157  10 -1     0.000000  210.696503    87.162033  337.874908  0.155744 -1 -1   \n",
       "158  10 -1  1267.864990  884.124695  1279.949219  958.964783  0.069062 -1 -1   \n",
       "159  10 -1  1190.128906  947.570618  1274.269531  960.000000  0.053171 -1 -1   \n",
       "160  10 -1  1234.858154  918.289246  1279.912354  959.629456  0.050755 -1 -1   \n",
       "\n",
       "     9  \n",
       "0   -1  \n",
       "1   -1  \n",
       "2   -1  \n",
       "3   -1  \n",
       "4   -1  \n",
       "..  ..  \n",
       "156 -1  \n",
       "157 -1  \n",
       "158 -1  \n",
       "159 -1  \n",
       "160 -1  \n",
       "\n",
       "[161 rows x 10 columns]"
      ]
     },
     "execution_count": 8,
     "metadata": {},
     "output_type": "execute_result"
    }
   ],
   "source": [
    "detections = read_txt_to_mot(DETECTIONS_PATH, length=14952)\n",
    "detections"
   ]
  },
  {
   "cell_type": "markdown",
   "id": "628a1538-39d1-49ff-945e-83489ff73ea0",
   "metadata": {},
   "source": [
    "## Write features"
   ]
  },
  {
   "cell_type": "code",
   "execution_count": 9,
   "id": "60f99958-df78-49bf-a9bf-5156ba2dee1f",
   "metadata": {},
   "outputs": [],
   "source": [
    "import torch\n",
    "from torch import nn\n",
    "from torchvision import models"
   ]
  },
  {
   "cell_type": "markdown",
   "id": "0aed7fe7-6f2d-4959-8aad-74d35167acc1",
   "metadata": {},
   "source": [
    "### resnext semi-weakly supervised learning pretrained"
   ]
  },
  {
   "cell_type": "code",
   "execution_count": null,
   "id": "cd2685e1-b755-41f2-a9c6-39050f4deb6c",
   "metadata": {},
   "outputs": [],
   "source": [
    "resnext_swsl = torch.hub.load('facebookresearch/semi-supervised-ImageNet1K-models', 'resnext50_32x4d_swsl')\n",
    "\n",
    "\n",
    "resnext_swsl.layer4 = nn.Identity()\n",
    "resnext_swsl.fc = FeatureNormalize(p=2, dim=1)\n",
    "\n",
    "\n",
    "write_detection_features(encoder=resnext_swsl, detections=detections,\n",
    "                         destination='../sample/feats_resnext50_32x4d_swsl/',\n",
    "                        img_path=IMG_PATH, batch_size=BATCH_SIZE,\n",
    "                        img_size=IMG_SIZE, box_format=BOX_FORMAT, ext=EXT)\n",
    "\n",
    "sleep(2)"
   ]
  },
  {
   "cell_type": "markdown",
   "id": "c415dda4-22b1-4de6-aea7-8cc9de966281",
   "metadata": {},
   "source": [
    "### resnext imagenet pretrained"
   ]
  },
  {
   "cell_type": "code",
   "execution_count": null,
   "id": "37e9ab2d-0aaf-436a-b85a-a7eb3cb622ee",
   "metadata": {},
   "outputs": [],
   "source": [
    "resnext_imgnet = models.resnext50_32x4d(pretrained=True)\n",
    "\n",
    "resnext_imgnet.layer4 = nn.Identity()\n",
    "resnext_imgnet.fc = FeatureNormalize(p=2, dim=1)\n",
    "\n",
    "check_encoder_output_if_normalized(resnext_imgnet, device='cpu')\n",
    "\n",
    "write_detection_features(encoder=resnext_imgnet,\n",
    "                        destination='../sample/feats_resnext50_32x4d_imgnet/',\n",
    "                        detections=detections,\n",
    "                        img_path=IMG_PATH, batch_size=BATCH_SIZE,\n",
    "                        img_size=IMG_SIZE, box_format=BOX_FORMAT, ext=EXT)\n",
    "\n",
    "sleep(2)"
   ]
  },
  {
   "cell_type": "markdown",
   "id": "773ca36b-37a8-45ad-a15e-00ecd0c9a692",
   "metadata": {},
   "source": [
    "### mobilenet v3"
   ]
  },
  {
   "cell_type": "code",
   "execution_count": null,
   "id": "3d2ba1f9-ab77-473f-b3fd-0bd475b48fb3",
   "metadata": {},
   "outputs": [],
   "source": [
    "mobilenet_v3 = models.mobilenet_v3_large(True)\n",
    "mobilenet_v3.classifier = FeatureNormalize(p=2, dim=1)\n",
    "\n",
    "check_encoder_output_if_normalized(mobilenet_v3, device='cpu')\n",
    "\n",
    "write_detection_features(encoder=mobilenet_v3,\n",
    "                        destination='../sample/feats_mobilenet_v3_large/',\n",
    "                        detections=detections,\n",
    "                        img_path=IMG_PATH, batch_size=BATCH_SIZE,\n",
    "                        img_size=IMG_SIZE, box_format=BOX_FORMAT, ext=EXT)\n",
    "\n",
    "sleep(2)"
   ]
  },
  {
   "cell_type": "markdown",
   "id": "980adedb-354a-4a70-8b63-5f4939e08651",
   "metadata": {},
   "source": [
    "### densenet 121"
   ]
  },
  {
   "cell_type": "code",
   "execution_count": 10,
   "id": "3d9c5a0c-6740-4f47-aa23-4398a6683d81",
   "metadata": {},
   "outputs": [
    {
     "name": "stdout",
     "output_type": "stream",
     "text": [
      "Output is normalized.\n",
      "Convert\n"
     ]
    },
    {
     "data": {
      "text/html": [
       "\n",
       "    <div>\n",
       "        <style>\n",
       "            /* Turns off some styling */\n",
       "            progress {\n",
       "                /* gets rid of default border in Firefox and Opera. */\n",
       "                border: none;\n",
       "                /* Needs to be in here for Safari polyfill so background images work as expected. */\n",
       "                background-size: auto;\n",
       "            }\n",
       "            .progress-bar-interrupted, .progress-bar-interrupted::-webkit-progress-bar {\n",
       "                background: #F44336;\n",
       "            }\n",
       "        </style>\n",
       "      <progress value='1' class='' max='1' style='width:300px; height:20px; vertical-align: middle;'></progress>\n",
       "      100.00% [1/1 00:12<00:00]\n",
       "    </div>\n",
       "    "
      ],
      "text/plain": [
       "<IPython.core.display.HTML object>"
      ]
     },
     "metadata": {},
     "output_type": "display_data"
    },
    {
     "name": "stdout",
     "output_type": "stream",
     "text": [
      "Features is saved at ./feats_densenet121/\n",
      "Detections file is saved at ./feats_densenet121/detections.csv\n"
     ]
    }
   ],
   "source": [
    "tv_densenet = models.densenet121(True)\n",
    "densenet = nn.Sequential(tv_densenet.features,\n",
    "                         nn.Sequential(nn.AdaptiveAvgPool2d(1), nn.Flatten(), \n",
    "                                       FeatureNormalize(p=2, dim=1)))\n",
    "check_encoder_output_if_normalized(densenet, device='cpu')\n",
    "write_detection_features(encoder=densenet,\n",
    "                        destination='../sample/feats_densenet121/',\n",
    "                        detections=detections,\n",
    "                        img_path=IMG_PATH, batch_size=BATCH_SIZE,\n",
    "                        img_size=IMG_SIZE, box_format=BOX_FORMAT, ext=EXT)\n",
    "\n",
    "sleep(2)"
   ]
  }
 ],
 "metadata": {
  "kernelspec": {
   "display_name": "Python 3 (ipykernel)",
   "language": "python",
   "name": "python3"
  },
  "language_info": {
   "codemirror_mode": {
    "name": "ipython",
    "version": 3
   },
   "file_extension": ".py",
   "mimetype": "text/x-python",
   "name": "python",
   "nbconvert_exporter": "python",
   "pygments_lexer": "ipython3",
   "version": "3.8.12"
  }
 },
 "nbformat": 4,
 "nbformat_minor": 5
}
