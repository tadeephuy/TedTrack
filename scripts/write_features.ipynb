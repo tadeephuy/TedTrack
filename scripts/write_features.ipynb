{
 "cells": [
  {
   "cell_type": "markdown",
   "id": "db4cac65-9164-45c2-a809-879a361488c5",
   "metadata": {},
   "source": [
    "## Imports and configs"
   ]
  },
  {
   "cell_type": "code",
   "execution_count": 1,
   "id": "e6535668-0a56-46f9-88ca-693fe160eee8",
   "metadata": {},
   "outputs": [],
   "source": [
    "from time import sleep\n",
    "import sys\n",
    "sys.path.append('..')\n",
    "\n",
    "from utils import read_txt_to_mot, convert_pickled_to_txt, write_detection_features, FeatureNormalize\n",
    "from utils.models import check_encoder_output_if_normalized"
   ]
  },
  {
   "cell_type": "code",
   "execution_count": 2,
   "id": "a7b4fc39-5e6d-4f32-8e4a-aea4000e9252",
   "metadata": {},
   "outputs": [],
   "source": [
    "DETECTIONS_PATH = '/mnt/c/workspace/outputs/frcnn_r18_hdet640-cam3_1hour_1.pkl'\n",
    "IMG_SIZE = 64\n",
    "IMG_PATH = '/mnt/c/workspace/datasets/topview/cam3_1hour_1/img1'\n",
    "EXT = 'PNG'\n",
    "BOX_FORMAT = 'xywh'\n",
    "SKIP=None\n",
    "LENGTH=None\n",
    "\n",
    "BATCH_SIZE = 256"
   ]
  },
  {
   "cell_type": "markdown",
   "id": "b64fedd1-093c-4566-afe7-e3e54771e6b6",
   "metadata": {},
   "source": [
    "## Create data"
   ]
  },
  {
   "cell_type": "code",
   "execution_count": 3,
   "id": "35c0cd14-9990-4cae-86e3-96fe191dc02b",
   "metadata": {},
   "outputs": [
    {
     "name": "stdout",
     "output_type": "stream",
     "text": [
      "Increased frame ID by 1 to match MOT format.\n"
     ]
    },
    {
     "data": {
      "text/html": [
       "<div>\n",
       "<style scoped>\n",
       "    .dataframe tbody tr th:only-of-type {\n",
       "        vertical-align: middle;\n",
       "    }\n",
       "\n",
       "    .dataframe tbody tr th {\n",
       "        vertical-align: top;\n",
       "    }\n",
       "\n",
       "    .dataframe thead th {\n",
       "        text-align: right;\n",
       "    }\n",
       "</style>\n",
       "<table border=\"1\" class=\"dataframe\">\n",
       "  <thead>\n",
       "    <tr style=\"text-align: right;\">\n",
       "      <th></th>\n",
       "      <th>0</th>\n",
       "      <th>1</th>\n",
       "      <th>2</th>\n",
       "      <th>3</th>\n",
       "      <th>4</th>\n",
       "      <th>5</th>\n",
       "      <th>6</th>\n",
       "      <th>7</th>\n",
       "      <th>8</th>\n",
       "      <th>9</th>\n",
       "    </tr>\n",
       "  </thead>\n",
       "  <tbody>\n",
       "    <tr>\n",
       "      <th>0</th>\n",
       "      <td>1</td>\n",
       "      <td>-1</td>\n",
       "      <td>530.346313</td>\n",
       "      <td>509.484558</td>\n",
       "      <td>114.661255</td>\n",
       "      <td>141.309082</td>\n",
       "      <td>0.997401</td>\n",
       "      <td>-1</td>\n",
       "      <td>-1</td>\n",
       "      <td>-1</td>\n",
       "    </tr>\n",
       "    <tr>\n",
       "      <th>1</th>\n",
       "      <td>1</td>\n",
       "      <td>-1</td>\n",
       "      <td>1251.993530</td>\n",
       "      <td>413.828430</td>\n",
       "      <td>27.150146</td>\n",
       "      <td>191.169189</td>\n",
       "      <td>0.084728</td>\n",
       "      <td>-1</td>\n",
       "      <td>-1</td>\n",
       "      <td>-1</td>\n",
       "    </tr>\n",
       "    <tr>\n",
       "      <th>2</th>\n",
       "      <td>1</td>\n",
       "      <td>-1</td>\n",
       "      <td>1263.261475</td>\n",
       "      <td>748.944397</td>\n",
       "      <td>15.646484</td>\n",
       "      <td>91.564331</td>\n",
       "      <td>0.081935</td>\n",
       "      <td>-1</td>\n",
       "      <td>-1</td>\n",
       "      <td>-1</td>\n",
       "    </tr>\n",
       "    <tr>\n",
       "      <th>3</th>\n",
       "      <td>1</td>\n",
       "      <td>-1</td>\n",
       "      <td>1264.300537</td>\n",
       "      <td>418.383514</td>\n",
       "      <td>15.276123</td>\n",
       "      <td>99.041168</td>\n",
       "      <td>0.077154</td>\n",
       "      <td>-1</td>\n",
       "      <td>-1</td>\n",
       "      <td>-1</td>\n",
       "    </tr>\n",
       "    <tr>\n",
       "      <th>4</th>\n",
       "      <td>1</td>\n",
       "      <td>-1</td>\n",
       "      <td>1247.036255</td>\n",
       "      <td>861.161926</td>\n",
       "      <td>32.944824</td>\n",
       "      <td>98.203369</td>\n",
       "      <td>0.075162</td>\n",
       "      <td>-1</td>\n",
       "      <td>-1</td>\n",
       "      <td>-1</td>\n",
       "    </tr>\n",
       "    <tr>\n",
       "      <th>...</th>\n",
       "      <td>...</td>\n",
       "      <td>...</td>\n",
       "      <td>...</td>\n",
       "      <td>...</td>\n",
       "      <td>...</td>\n",
       "      <td>...</td>\n",
       "      <td>...</td>\n",
       "      <td>...</td>\n",
       "      <td>...</td>\n",
       "      <td>...</td>\n",
       "    </tr>\n",
       "    <tr>\n",
       "      <th>361691</th>\n",
       "      <td>14952</td>\n",
       "      <td>-1</td>\n",
       "      <td>812.116760</td>\n",
       "      <td>256.273895</td>\n",
       "      <td>115.758179</td>\n",
       "      <td>116.298767</td>\n",
       "      <td>0.996645</td>\n",
       "      <td>-1</td>\n",
       "      <td>-1</td>\n",
       "      <td>-1</td>\n",
       "    </tr>\n",
       "    <tr>\n",
       "      <th>361692</th>\n",
       "      <td>14952</td>\n",
       "      <td>-1</td>\n",
       "      <td>352.774597</td>\n",
       "      <td>0.981041</td>\n",
       "      <td>167.978760</td>\n",
       "      <td>147.855591</td>\n",
       "      <td>0.998795</td>\n",
       "      <td>-1</td>\n",
       "      <td>-1</td>\n",
       "      <td>-1</td>\n",
       "    </tr>\n",
       "    <tr>\n",
       "      <th>361693</th>\n",
       "      <td>14952</td>\n",
       "      <td>-1</td>\n",
       "      <td>952.257812</td>\n",
       "      <td>231.689972</td>\n",
       "      <td>99.287598</td>\n",
       "      <td>139.003113</td>\n",
       "      <td>0.050106</td>\n",
       "      <td>-1</td>\n",
       "      <td>-1</td>\n",
       "      <td>-1</td>\n",
       "    </tr>\n",
       "    <tr>\n",
       "      <th>361694</th>\n",
       "      <td>14952</td>\n",
       "      <td>-1</td>\n",
       "      <td>821.579468</td>\n",
       "      <td>361.355865</td>\n",
       "      <td>205.232422</td>\n",
       "      <td>190.212982</td>\n",
       "      <td>0.088632</td>\n",
       "      <td>-1</td>\n",
       "      <td>-1</td>\n",
       "      <td>-1</td>\n",
       "    </tr>\n",
       "    <tr>\n",
       "      <th>361695</th>\n",
       "      <td>14952</td>\n",
       "      <td>-1</td>\n",
       "      <td>0.235830</td>\n",
       "      <td>945.865540</td>\n",
       "      <td>45.538025</td>\n",
       "      <td>14.112549</td>\n",
       "      <td>0.050102</td>\n",
       "      <td>-1</td>\n",
       "      <td>-1</td>\n",
       "      <td>-1</td>\n",
       "    </tr>\n",
       "  </tbody>\n",
       "</table>\n",
       "<p>361696 rows × 10 columns</p>\n",
       "</div>"
      ],
      "text/plain": [
       "            0  1            2           3           4           5         6  \\\n",
       "0           1 -1   530.346313  509.484558  114.661255  141.309082  0.997401   \n",
       "1           1 -1  1251.993530  413.828430   27.150146  191.169189  0.084728   \n",
       "2           1 -1  1263.261475  748.944397   15.646484   91.564331  0.081935   \n",
       "3           1 -1  1264.300537  418.383514   15.276123   99.041168  0.077154   \n",
       "4           1 -1  1247.036255  861.161926   32.944824   98.203369  0.075162   \n",
       "...       ... ..          ...         ...         ...         ...       ...   \n",
       "361691  14952 -1   812.116760  256.273895  115.758179  116.298767  0.996645   \n",
       "361692  14952 -1   352.774597    0.981041  167.978760  147.855591  0.998795   \n",
       "361693  14952 -1   952.257812  231.689972   99.287598  139.003113  0.050106   \n",
       "361694  14952 -1   821.579468  361.355865  205.232422  190.212982  0.088632   \n",
       "361695  14952 -1     0.235830  945.865540   45.538025   14.112549  0.050102   \n",
       "\n",
       "        7  8  9  \n",
       "0      -1 -1 -1  \n",
       "1      -1 -1 -1  \n",
       "2      -1 -1 -1  \n",
       "3      -1 -1 -1  \n",
       "4      -1 -1 -1  \n",
       "...    .. .. ..  \n",
       "361691 -1 -1 -1  \n",
       "361692 -1 -1 -1  \n",
       "361693 -1 -1 -1  \n",
       "361694 -1 -1 -1  \n",
       "361695 -1 -1 -1  \n",
       "\n",
       "[361696 rows x 10 columns]"
      ]
     },
     "execution_count": 3,
     "metadata": {},
     "output_type": "execute_result"
    }
   ],
   "source": [
    "import os\n",
    "if os.path.splitext(DETECTIONS_PATH)[-1] == '.pkl':\n",
    "    detections = convert_pickled_to_txt(DETECTIONS_PATH,\n",
    "                                        return_df=True,\n",
    "                                        skip=SKIP, length=LENGTH,\n",
    "                                        destination ='./', verbose=True)\n",
    "else:\n",
    "    detections = read_txt_to_mot(DETECTIONS_PATH, length=14952)\n",
    "detections"
   ]
  },
  {
   "cell_type": "markdown",
   "id": "628a1538-39d1-49ff-945e-83489ff73ea0",
   "metadata": {},
   "source": [
    "## Write features"
   ]
  },
  {
   "cell_type": "code",
   "execution_count": 4,
   "id": "60f99958-df78-49bf-a9bf-5156ba2dee1f",
   "metadata": {},
   "outputs": [],
   "source": [
    "import torch\n",
    "from torch import nn\n",
    "from torchvision import models"
   ]
  },
  {
   "cell_type": "markdown",
   "id": "0aed7fe7-6f2d-4959-8aad-74d35167acc1",
   "metadata": {},
   "source": [
    "### resnext semi-weakly supervised learning pretrained"
   ]
  },
  {
   "cell_type": "code",
   "execution_count": null,
   "id": "cd2685e1-b755-41f2-a9c6-39050f4deb6c",
   "metadata": {},
   "outputs": [
    {
     "name": "stderr",
     "output_type": "stream",
     "text": [
      "Using cache found in /home/ted/.cache/torch/hub/facebookresearch_semi-supervised-ImageNet1K-models_master\n"
     ]
    },
    {
     "data": {
      "text/html": [
       "\n",
       "    <div>\n",
       "        <style>\n",
       "            /* Turns off some styling */\n",
       "            progress {\n",
       "                /* gets rid of default border in Firefox and Opera. */\n",
       "                border: none;\n",
       "                /* Needs to be in here for Safari polyfill so background images work as expected. */\n",
       "                background-size: auto;\n",
       "            }\n",
       "            .progress-bar-interrupted, .progress-bar-interrupted::-webkit-progress-bar {\n",
       "                background: #F44336;\n",
       "            }\n",
       "        </style>\n",
       "      <progress value='142' class='' max='1413' style='width:300px; height:20px; vertical-align: middle;'></progress>\n",
       "      10.05% [142/1413 08:46<1:18:34]\n",
       "    </div>\n",
       "    "
      ],
      "text/plain": [
       "<IPython.core.display.HTML object>"
      ]
     },
     "metadata": {},
     "output_type": "display_data"
    }
   ],
   "source": [
    "resnext_swsl = torch.hub.load('facebookresearch/semi-supervised-ImageNet1K-models', 'resnext50_32x4d_swsl')\n",
    "\n",
    "\n",
    "resnext_swsl.layer4 = nn.Identity()\n",
    "resnext_swsl.fc = FeatureNormalize(p=2, dim=1)\n",
    "\n",
    "\n",
    "write_detection_features(encoder=resnext_swsl, detections=detections,\n",
    "                         destination='../sample/feats/resnext50_32x4d_swsl/',\n",
    "                        img_path=IMG_PATH, batch_size=BATCH_SIZE,\n",
    "                        img_size=IMG_SIZE, box_format=BOX_FORMAT, ext=EXT)\n",
    "\n",
    "sleep(2)"
   ]
  },
  {
   "cell_type": "markdown",
   "id": "c415dda4-22b1-4de6-aea7-8cc9de966281",
   "metadata": {},
   "source": [
    "### resnext imagenet pretrained"
   ]
  },
  {
   "cell_type": "code",
   "execution_count": null,
   "id": "37e9ab2d-0aaf-436a-b85a-a7eb3cb622ee",
   "metadata": {},
   "outputs": [],
   "source": [
    "resnext_imgnet = models.resnext50_32x4d(pretrained=True)\n",
    "\n",
    "resnext_imgnet.layer4 = nn.Identity()\n",
    "resnext_imgnet.fc = FeatureNormalize(p=2, dim=1)\n",
    "\n",
    "check_encoder_output_if_normalized(resnext_imgnet, device='cpu')\n",
    "\n",
    "write_detection_features(encoder=resnext_imgnet,\n",
    "                        destination='../sample/feats/resnext50_32x4d_imgnet/',\n",
    "                        detections=detections,\n",
    "                        img_path=IMG_PATH, batch_size=BATCH_SIZE,\n",
    "                        img_size=IMG_SIZE, box_format=BOX_FORMAT, ext=EXT)\n",
    "\n",
    "sleep(2)"
   ]
  },
  {
   "cell_type": "markdown",
   "id": "773ca36b-37a8-45ad-a15e-00ecd0c9a692",
   "metadata": {},
   "source": [
    "### mobilenet v3"
   ]
  },
  {
   "cell_type": "code",
   "execution_count": null,
   "id": "3d2ba1f9-ab77-473f-b3fd-0bd475b48fb3",
   "metadata": {},
   "outputs": [],
   "source": [
    "mobilenet_v3 = models.mobilenet_v3_large(True)\n",
    "mobilenet_v3.classifier = FeatureNormalize(p=2, dim=1)\n",
    "\n",
    "check_encoder_output_if_normalized(mobilenet_v3, device='cpu')\n",
    "\n",
    "write_detection_features(encoder=mobilenet_v3,\n",
    "                        destination='../sample/feats/mobilenet_v3_large/',\n",
    "                        detections=detections,\n",
    "                        img_path=IMG_PATH, batch_size=BATCH_SIZE,\n",
    "                        img_size=IMG_SIZE, box_format=BOX_FORMAT, ext=EXT)\n",
    "\n",
    "sleep(2)"
   ]
  },
  {
   "cell_type": "markdown",
   "id": "980adedb-354a-4a70-8b63-5f4939e08651",
   "metadata": {},
   "source": [
    "### densenet 121"
   ]
  },
  {
   "cell_type": "code",
   "execution_count": 10,
   "id": "3d9c5a0c-6740-4f47-aa23-4398a6683d81",
   "metadata": {},
   "outputs": [
    {
     "name": "stdout",
     "output_type": "stream",
     "text": [
      "Output is normalized.\n",
      "Convert\n"
     ]
    },
    {
     "data": {
      "text/html": [
       "\n",
       "    <div>\n",
       "        <style>\n",
       "            /* Turns off some styling */\n",
       "            progress {\n",
       "                /* gets rid of default border in Firefox and Opera. */\n",
       "                border: none;\n",
       "                /* Needs to be in here for Safari polyfill so background images work as expected. */\n",
       "                background-size: auto;\n",
       "            }\n",
       "            .progress-bar-interrupted, .progress-bar-interrupted::-webkit-progress-bar {\n",
       "                background: #F44336;\n",
       "            }\n",
       "        </style>\n",
       "      <progress value='1' class='' max='1' style='width:300px; height:20px; vertical-align: middle;'></progress>\n",
       "      100.00% [1/1 00:12<00:00]\n",
       "    </div>\n",
       "    "
      ],
      "text/plain": [
       "<IPython.core.display.HTML object>"
      ]
     },
     "metadata": {},
     "output_type": "display_data"
    },
    {
     "name": "stdout",
     "output_type": "stream",
     "text": [
      "Features is saved at ./feats_densenet121/\n",
      "Detections file is saved at ./feats_densenet121/detections.csv\n"
     ]
    }
   ],
   "source": [
    "tv_densenet = models.densenet121(True)\n",
    "densenet = nn.Sequential(tv_densenet.features,\n",
    "                         nn.Sequential(nn.AdaptiveAvgPool2d(1), nn.Flatten(), \n",
    "                                       FeatureNormalize(p=2, dim=1)))\n",
    "check_encoder_output_if_normalized(densenet, device='cpu')\n",
    "write_detection_features(encoder=densenet,\n",
    "                        destination='../sample/feats/densenet121/',\n",
    "                        detections=detections,\n",
    "                        img_path=IMG_PATH, batch_size=BATCH_SIZE,\n",
    "                        img_size=IMG_SIZE, box_format=BOX_FORMAT, ext=EXT)\n",
    "\n",
    "sleep(2)"
   ]
  }
 ],
 "metadata": {
  "kernelspec": {
   "display_name": "Python 3 (ipykernel)",
   "language": "python",
   "name": "python3"
  },
  "language_info": {
   "codemirror_mode": {
    "name": "ipython",
    "version": 3
   },
   "file_extension": ".py",
   "mimetype": "text/x-python",
   "name": "python",
   "nbconvert_exporter": "python",
   "pygments_lexer": "ipython3",
   "version": "3.8.12"
  }
 },
 "nbformat": 4,
 "nbformat_minor": 5
}
